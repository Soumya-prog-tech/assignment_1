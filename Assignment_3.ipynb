{
 "cells": [
  {
   "cell_type": "code",
   "id": "initial_id",
   "metadata": {
    "collapsed": true,
    "ExecuteTime": {
     "end_time": "2024-12-26T17:25:52.868254Z",
     "start_time": "2024-12-26T17:25:52.862413Z"
    }
   },
   "source": [
    "# Necessary Imports\n",
    "import os\n",
    "import random\n",
    "import numpy as np\n",
    "import gymnasium as gym\n",
    "import torch\n",
    "import torch.nn as nn\n",
    "import torch.optim as optim\n",
    "import torch.nn.functional as F\n",
    "import torch.autograd as autograd\n",
    "from torch.autograd import Variable\n",
    "from collections import deque, namedtuple"
   ],
   "outputs": [],
   "execution_count": 17
  },
  {
   "metadata": {
    "ExecuteTime": {
     "end_time": "2024-12-26T17:04:01.060638Z",
     "start_time": "2024-12-26T17:04:01.009548Z"
    }
   },
   "cell_type": "code",
   "source": [
    "# DQN pytorch based model\n",
    "class Network(nn.Module):\n",
    "\n",
    "    def __init__(self,state_size,action_size,seed = 42):\n",
    "        super(Network,self).__init__()\n",
    "        self.seed = torch.manual_seed(seed)\n",
    "        self.fc1 = nn.Linear(state_size, 64)\n",
    "        self.fc2 = nn.Linear(64,64)\n",
    "        self.fc3 = nn.Linear(64,action_size)\n",
    "\n",
    "    def forward(self,state):\n",
    "        x = self.fc1(state)\n",
    "        x = F.relu(x)\n",
    "        x = self.fc2(x)\n",
    "        x = F.relu(x)\n",
    "        return self.fc3(x)\n",
    "\n",
    "\n"
   ],
   "id": "307e4d27044e1bfc",
   "outputs": [],
   "execution_count": 13
  },
  {
   "metadata": {
    "ExecuteTime": {
     "end_time": "2024-12-26T16:39:10.722441Z",
     "start_time": "2024-12-26T16:39:10.687748Z"
    }
   },
   "cell_type": "code",
   "source": [
    "#importing environment from openAI\n",
    "env = gym.make('LunarLander-v3')\n",
    "# print('State',env.observation_space)\n",
    "# print('action',env.action_space)\n",
    "state_shape = env.observation_space.shape\n",
    "state_size = env.observation_space.shape[0]\n",
    "number_actions = env.action_space.n"
   ],
   "id": "5acf370e85db8e8a",
   "outputs": [],
   "execution_count": 6
  },
  {
   "metadata": {
    "ExecuteTime": {
     "end_time": "2024-12-26T17:41:25.374361Z",
     "start_time": "2024-12-26T17:41:25.369286Z"
    }
   },
   "cell_type": "code",
   "source": [
    "learning_rate = 5e-4\n",
    "minibatch_size = 100\n",
    "discount_factor = 0.985\n",
    "replay_buffer_size = int(1e5)\n",
    "interpolation_parameter = 1e-3\n"
   ],
   "id": "da00610eff802fd5",
   "outputs": [],
   "execution_count": 46
  },
  {
   "metadata": {
    "ExecuteTime": {
     "end_time": "2024-12-26T17:41:26.814758Z",
     "start_time": "2024-12-26T17:41:26.806592Z"
    }
   },
   "cell_type": "code",
   "source": [
    "# Replay Buffer model - first step\n",
    "# used self.device so that i can run it on my laptop and on google colab both\n",
    "class ReplayMemory(object):\n",
    "\n",
    "    def __init__(self,capacity):\n",
    "        self.device = torch.device(\"cuda:0\" if torch.cuda.is_available() else \"cpu\")\n",
    "        self.capacity = capacity\n",
    "        self.memory = []\n",
    "\n",
    "    def push(self,event):\n",
    "        self.memory.append(event)\n",
    "        if len(self.memory) > self.capacity:\n",
    "            del self.memory[0]\n",
    "\n",
    "    def sample(self, batch_size):\n",
    "        experiences = random.sample(self.memory, k=batch_size)\n",
    "\n",
    "        states = torch.from_numpy(np.vstack([e[0] for e in experiences if e is not None])).float().to(self.device)\n",
    "        actions = torch.from_numpy(np.vstack([e[1] for e in experiences if e is not None])).long().to(self.device)\n",
    "        rewards = torch.from_numpy(np.vstack([e[2] for e in experiences if e is not None])).float().to(self.device)\n",
    "        next_states = torch.from_numpy(np.vstack([e[3] for e in experiences if e is not None])).float().to(self.device)\n",
    "        dones = torch.from_numpy(np.vstack([e[4] for e in experiences if e is not None]).astype(np.uint8)).float().to(self.device)\n",
    "        return states, next_states, actions, rewards, dones\n",
    "\n"
   ],
   "id": "ac465dceb0fc3ada",
   "outputs": [],
   "execution_count": 47
  },
  {
   "metadata": {
    "ExecuteTime": {
     "end_time": "2024-12-26T17:42:20.410981Z",
     "start_time": "2024-12-26T17:42:20.400298Z"
    }
   },
   "cell_type": "code",
   "source": [
    "class Agent():\n",
    "\n",
    "    def __init__(self,state_size,action_size):\n",
    "        self.device = torch.device(\"cuda:0\" if torch.cuda.is_available() else \"cpu\")\n",
    "        self.state_size = state_size\n",
    "        self.action_size = action_size\n",
    "        self.local_qnetwork = Network(state_size,action_size).to(self.device)\n",
    "        self.target_qnetwork = Network(state_size,action_size).to(self.device)\n",
    "        self.optimizer = optim.Adam(self.local_qnetwork.parameters(),lr = learning_rate)\n",
    "        self.memory = ReplayMemory(replay_buffer_size)\n",
    "        self.t_step = 0\n",
    "\n",
    "    def step(self,state,action,reward,next_state,done):\n",
    "        self.memory.push((state,action,reward,next_state,done))\n",
    "        self.t_step = (self.t_step+1)%4\n",
    "        if self.t_step == 0:\n",
    "            if len(self.memory.memory) > minibatch_size:\n",
    "                experiences = self.memory.sample(100)\n",
    "                self.learn(experiences,discount_factor)\n",
    "    def act(self,state,epsilon = 0.):\n",
    "        state = torch.from_numpy(state).float().unsqueeze(0).to(self.device)\n",
    "        self.local_qnetwork.eval()\n",
    "        with torch.no_grad():\n",
    "            action_values = self.local_qnetwork(state)\n",
    "            self.local_qnetwork.train()\n",
    "            if random.random() > epsilon:\n",
    "                return np.argmax(action_values.cpu().data.numpy())\n",
    "            else:\n",
    "                return random.choice(np.arange(self.action_size))\n",
    "    def learn(self,experiences,discount_factor):\n",
    "        states,next_states,actions,rewards,dones = experiences\n",
    "        next_q_targets = self.target_qnetwork(next_states).detach().max(1)[0].unsqueeze(1)\n",
    "        q_targets = rewards + discount_factor*next_q_targets*(1-dones)\n",
    "        q_expected = self.local_qnetwork(states).gather(1,actions)\n",
    "        loss = F.mse_loss(q_expected, q_targets)\n",
    "        self.optimizer.zero_grad()\n",
    "        loss.backward()\n",
    "        self.optimizer.step()\n",
    "        self.soft_update(self.local_qnetwork,self.target_qnetwork,interpolation_parameter)\n",
    "    def soft_update(self,local_model,target_model,interpolation_parameter):\n",
    "        for target_param,local_param in zip(target_model.parameters(),local_model.parameters()):\n",
    "            target_param.data.copy_(interpolation_parameter * local_param.data + (1.0 - interpolation_parameter) * target_param.data)\n",
    "\n"
   ],
   "id": "c9042b0899fe57c6",
   "outputs": [],
   "execution_count": 51
  },
  {
   "metadata": {
    "ExecuteTime": {
     "end_time": "2024-12-26T17:42:23.743480Z",
     "start_time": "2024-12-26T17:42:23.732098Z"
    }
   },
   "cell_type": "code",
   "source": [
    "agent = Agent(state_size,number_actions)\n",
    "number_episodes = 2000\n",
    "maximum_number_timesteps_per_episode = 1000\n",
    "epsilon_starting_value = 1.0\n",
    "epsilon_ending_value = 0.01\n",
    "epsilon_decay_value = 0.995\n",
    "epsilon = epsilon_starting_value\n",
    "scores_on_100_episodes = deque(maxlen = 100)"
   ],
   "id": "cbc15416ac5efa9f",
   "outputs": [],
   "execution_count": 52
  },
  {
   "metadata": {
    "jupyter": {
     "is_executing": true
    },
    "ExecuteTime": {
     "start_time": "2024-12-26T17:42:25.265184Z"
    }
   },
   "cell_type": "code",
   "source": [
    "for episode in range(1,number_episodes+1):\n",
    "    state,_ = env.reset()\n",
    "    score = 0\n",
    "    for t in range(maximum_number_timesteps_per_episode):\n",
    "        action = agent.act(state,epsilon)\n",
    "        next_state,reward,done,_,_ = env.step(action)\n",
    "        agent.step(state,action,reward,next_state,done)\n",
    "        state = next_state\n",
    "        score += reward\n",
    "        if done:\n",
    "            break\n",
    "        scores_on_100_episodes.append(score)\n",
    "        epsilon = max(epsilon_ending_value,epsilon_decay_value*epsilon)\n",
    "        if episode % 100 == 0:\n",
    "            print('\\rEpisode {} - Average Score: {:.2f}'.format(episode,np.mean(scores_on_100_episodes)),end = '')\n"
   ],
   "id": "d0467158ccf56726",
   "outputs": [],
   "execution_count": null
  }
 ],
 "metadata": {
  "kernelspec": {
   "display_name": "Python 3",
   "language": "python",
   "name": "python3"
  },
  "language_info": {
   "codemirror_mode": {
    "name": "ipython",
    "version": 2
   },
   "file_extension": ".py",
   "mimetype": "text/x-python",
   "name": "python",
   "nbconvert_exporter": "python",
   "pygments_lexer": "ipython2",
   "version": "2.7.6"
  }
 },
 "nbformat": 4,
 "nbformat_minor": 5
}

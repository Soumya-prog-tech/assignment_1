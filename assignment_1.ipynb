{
 "cells": [
  {
   "cell_type": "markdown",
   "metadata": {},
   "source": [
    "## Assignment - 1"
   ]
  },
  {
   "cell_type": "markdown",
   "metadata": {},
   "source": [
    "### Part 1: Data Exploration with Pandas (30 Points)"
   ]
  },
  {
   "cell_type": "markdown",
   "metadata": {},
   "source": [
    "#### Load the dataset"
   ]
  },
  {
   "cell_type": "code",
   "execution_count": 22,
   "metadata": {},
   "outputs": [
    {
     "name": "stdout",
     "output_type": "stream",
     "text": [
      "   longitude  latitude  housing_median_age  total_rooms  total_bedrooms  \\\n",
      "0    -114.31     34.19                15.0       5612.0          1283.0   \n",
      "1    -114.47     34.40                19.0       7650.0          1901.0   \n",
      "2    -114.56     33.69                17.0        720.0           174.0   \n",
      "3    -114.57     33.64                14.0       1501.0           337.0   \n",
      "4    -114.57     33.57                20.0       1454.0           326.0   \n",
      "\n",
      "   population  households  median_income  median_house_value  \n",
      "0      1015.0       472.0         1.4936             66900.0  \n",
      "1      1129.0       463.0         1.8200             80100.0  \n",
      "2       333.0       117.0         1.6509             85700.0  \n",
      "3       515.0       226.0         3.1917             73400.0  \n",
      "4       624.0       262.0         1.9250             65500.0  \n",
      "       longitude  latitude  housing_median_age  total_rooms  total_bedrooms  \\\n",
      "16990    -124.22     41.73                28.0       3003.0           699.0   \n",
      "16991    -124.23     41.75                11.0       3159.0           616.0   \n",
      "16992    -124.23     40.81                52.0       1112.0           209.0   \n",
      "16993    -124.23     40.54                52.0       2694.0           453.0   \n",
      "16994    -124.25     40.28                32.0       1430.0           419.0   \n",
      "16995    -124.26     40.58                52.0       2217.0           394.0   \n",
      "16996    -124.27     40.69                36.0       2349.0           528.0   \n",
      "16997    -124.30     41.84                17.0       2677.0           531.0   \n",
      "16998    -124.30     41.80                19.0       2672.0           552.0   \n",
      "16999    -124.35     40.54                52.0       1820.0           300.0   \n",
      "\n",
      "       population  households  median_income  median_house_value  \n",
      "16990      1530.0       653.0         1.7038             78300.0  \n",
      "16991      1343.0       479.0         2.4805             73200.0  \n",
      "16992       544.0       172.0         3.3462             50800.0  \n",
      "16993      1152.0       435.0         3.0806            106700.0  \n",
      "16994       434.0       187.0         1.9417             76100.0  \n",
      "16995       907.0       369.0         2.3571            111400.0  \n",
      "16996      1194.0       465.0         2.5179             79000.0  \n",
      "16997      1244.0       456.0         3.0313            103600.0  \n",
      "16998      1298.0       478.0         1.9797             85800.0  \n",
      "16999       806.0       270.0         3.0147             94600.0  \n"
     ]
    }
   ],
   "source": [
    "import pandas as pd\n",
    "\n",
    "Cal_house_ds = pd.read_csv('california_housing_train.csv')\n",
    "print(Cal_house_ds.head())\n",
    "print(Cal_house_ds.tail(10))\n",
    "\n"
   ]
  },
  {
   "cell_type": "markdown",
   "metadata": {},
   "source": [
    "#### Data Summary"
   ]
  },
  {
   "cell_type": "code",
   "execution_count": 23,
   "metadata": {},
   "outputs": [
    {
     "data": {
      "text/html": [
       "<div>\n",
       "<style scoped>\n",
       "    .dataframe tbody tr th:only-of-type {\n",
       "        vertical-align: middle;\n",
       "    }\n",
       "\n",
       "    .dataframe tbody tr th {\n",
       "        vertical-align: top;\n",
       "    }\n",
       "\n",
       "    .dataframe thead th {\n",
       "        text-align: right;\n",
       "    }\n",
       "</style>\n",
       "<table border=\"1\" class=\"dataframe\">\n",
       "  <thead>\n",
       "    <tr style=\"text-align: right;\">\n",
       "      <th></th>\n",
       "      <th>longitude</th>\n",
       "      <th>latitude</th>\n",
       "      <th>housing_median_age</th>\n",
       "      <th>total_rooms</th>\n",
       "      <th>total_bedrooms</th>\n",
       "      <th>population</th>\n",
       "      <th>households</th>\n",
       "      <th>median_income</th>\n",
       "      <th>median_house_value</th>\n",
       "    </tr>\n",
       "  </thead>\n",
       "  <tbody>\n",
       "    <tr>\n",
       "      <th>count</th>\n",
       "      <td>17000.000000</td>\n",
       "      <td>17000.000000</td>\n",
       "      <td>17000.000000</td>\n",
       "      <td>17000.000000</td>\n",
       "      <td>17000.000000</td>\n",
       "      <td>17000.000000</td>\n",
       "      <td>17000.000000</td>\n",
       "      <td>17000.000000</td>\n",
       "      <td>17000.000000</td>\n",
       "    </tr>\n",
       "    <tr>\n",
       "      <th>mean</th>\n",
       "      <td>-119.562108</td>\n",
       "      <td>35.625225</td>\n",
       "      <td>28.589353</td>\n",
       "      <td>2643.664412</td>\n",
       "      <td>539.410824</td>\n",
       "      <td>1429.573941</td>\n",
       "      <td>501.221941</td>\n",
       "      <td>3.883578</td>\n",
       "      <td>207300.912353</td>\n",
       "    </tr>\n",
       "    <tr>\n",
       "      <th>std</th>\n",
       "      <td>2.005166</td>\n",
       "      <td>2.137340</td>\n",
       "      <td>12.586937</td>\n",
       "      <td>2179.947071</td>\n",
       "      <td>421.499452</td>\n",
       "      <td>1147.852959</td>\n",
       "      <td>384.520841</td>\n",
       "      <td>1.908157</td>\n",
       "      <td>115983.764387</td>\n",
       "    </tr>\n",
       "    <tr>\n",
       "      <th>min</th>\n",
       "      <td>-124.350000</td>\n",
       "      <td>32.540000</td>\n",
       "      <td>1.000000</td>\n",
       "      <td>2.000000</td>\n",
       "      <td>1.000000</td>\n",
       "      <td>3.000000</td>\n",
       "      <td>1.000000</td>\n",
       "      <td>0.499900</td>\n",
       "      <td>14999.000000</td>\n",
       "    </tr>\n",
       "    <tr>\n",
       "      <th>25%</th>\n",
       "      <td>-121.790000</td>\n",
       "      <td>33.930000</td>\n",
       "      <td>18.000000</td>\n",
       "      <td>1462.000000</td>\n",
       "      <td>297.000000</td>\n",
       "      <td>790.000000</td>\n",
       "      <td>282.000000</td>\n",
       "      <td>2.566375</td>\n",
       "      <td>119400.000000</td>\n",
       "    </tr>\n",
       "    <tr>\n",
       "      <th>50%</th>\n",
       "      <td>-118.490000</td>\n",
       "      <td>34.250000</td>\n",
       "      <td>29.000000</td>\n",
       "      <td>2127.000000</td>\n",
       "      <td>434.000000</td>\n",
       "      <td>1167.000000</td>\n",
       "      <td>409.000000</td>\n",
       "      <td>3.544600</td>\n",
       "      <td>180400.000000</td>\n",
       "    </tr>\n",
       "    <tr>\n",
       "      <th>75%</th>\n",
       "      <td>-118.000000</td>\n",
       "      <td>37.720000</td>\n",
       "      <td>37.000000</td>\n",
       "      <td>3151.250000</td>\n",
       "      <td>648.250000</td>\n",
       "      <td>1721.000000</td>\n",
       "      <td>605.250000</td>\n",
       "      <td>4.767000</td>\n",
       "      <td>265000.000000</td>\n",
       "    </tr>\n",
       "    <tr>\n",
       "      <th>max</th>\n",
       "      <td>-114.310000</td>\n",
       "      <td>41.950000</td>\n",
       "      <td>52.000000</td>\n",
       "      <td>37937.000000</td>\n",
       "      <td>6445.000000</td>\n",
       "      <td>35682.000000</td>\n",
       "      <td>6082.000000</td>\n",
       "      <td>15.000100</td>\n",
       "      <td>500001.000000</td>\n",
       "    </tr>\n",
       "  </tbody>\n",
       "</table>\n",
       "</div>"
      ],
      "text/plain": [
       "          longitude      latitude  housing_median_age   total_rooms  \\\n",
       "count  17000.000000  17000.000000        17000.000000  17000.000000   \n",
       "mean    -119.562108     35.625225           28.589353   2643.664412   \n",
       "std        2.005166      2.137340           12.586937   2179.947071   \n",
       "min     -124.350000     32.540000            1.000000      2.000000   \n",
       "25%     -121.790000     33.930000           18.000000   1462.000000   \n",
       "50%     -118.490000     34.250000           29.000000   2127.000000   \n",
       "75%     -118.000000     37.720000           37.000000   3151.250000   \n",
       "max     -114.310000     41.950000           52.000000  37937.000000   \n",
       "\n",
       "       total_bedrooms    population    households  median_income  \\\n",
       "count    17000.000000  17000.000000  17000.000000   17000.000000   \n",
       "mean       539.410824   1429.573941    501.221941       3.883578   \n",
       "std        421.499452   1147.852959    384.520841       1.908157   \n",
       "min          1.000000      3.000000      1.000000       0.499900   \n",
       "25%        297.000000    790.000000    282.000000       2.566375   \n",
       "50%        434.000000   1167.000000    409.000000       3.544600   \n",
       "75%        648.250000   1721.000000    605.250000       4.767000   \n",
       "max       6445.000000  35682.000000   6082.000000      15.000100   \n",
       "\n",
       "       median_house_value  \n",
       "count        17000.000000  \n",
       "mean        207300.912353  \n",
       "std         115983.764387  \n",
       "min          14999.000000  \n",
       "25%         119400.000000  \n",
       "50%         180400.000000  \n",
       "75%         265000.000000  \n",
       "max         500001.000000  "
      ]
     },
     "execution_count": 23,
     "metadata": {},
     "output_type": "execute_result"
    }
   ],
   "source": [
    "Cal_house_ds.describe()\n"
   ]
  },
  {
   "cell_type": "code",
   "execution_count": null,
   "metadata": {},
   "outputs": [
    {
     "name": "stdout",
     "output_type": "stream",
     "text": [
      "Total unique elements in \"total bedrooms\" is : 1848\n",
      "1848\n"
     ]
    }
   ],
   "source": [
    "print()\n",
    "print(len(Cal_house_ds['total_bedrooms'].unique()))"
   ]
  },
  {
   "cell_type": "markdown",
   "metadata": {},
   "source": [
    "#### Data Transformation"
   ]
  },
  {
   "cell_type": "code",
   "execution_count": 43,
   "metadata": {},
   "outputs": [
    {
     "name": "stdout",
     "output_type": "stream",
     "text": [
      "Mean : 0.21275998821034803\n",
      "Standard Deviation : 0.05782300890316167\n"
     ]
    }
   ],
   "source": [
    "Cal_house_ds['total_bedrooms_per_total_rooms'] = Cal_house_ds['total_bedrooms']/Cal_house_ds['total_rooms']\n",
    "print(\"Mean : \" + str(Cal_house_ds['total_bedrooms_per_total_rooms'].mean()))\n",
    "print(\"Standard Deviation : \" + str(Cal_house_ds['total_bedrooms_per_total_rooms'].std()))"
   ]
  },
  {
   "cell_type": "markdown",
   "metadata": {},
   "source": [
    "#### Data Filtering"
   ]
  },
  {
   "cell_type": "code",
   "execution_count": 46,
   "metadata": {},
   "outputs": [
    {
     "data": {
      "text/html": [
       "<div>\n",
       "<style scoped>\n",
       "    .dataframe tbody tr th:only-of-type {\n",
       "        vertical-align: middle;\n",
       "    }\n",
       "\n",
       "    .dataframe tbody tr th {\n",
       "        vertical-align: top;\n",
       "    }\n",
       "\n",
       "    .dataframe thead th {\n",
       "        text-align: right;\n",
       "    }\n",
       "</style>\n",
       "<table border=\"1\" class=\"dataframe\">\n",
       "  <thead>\n",
       "    <tr style=\"text-align: right;\">\n",
       "      <th></th>\n",
       "      <th>longitude</th>\n",
       "      <th>latitude</th>\n",
       "      <th>housing_median_age</th>\n",
       "      <th>total_rooms</th>\n",
       "      <th>total_bedrooms</th>\n",
       "      <th>population</th>\n",
       "      <th>households</th>\n",
       "      <th>median_income</th>\n",
       "      <th>median_house_value</th>\n",
       "      <th>total_bedrooms_per_total_rooms</th>\n",
       "    </tr>\n",
       "  </thead>\n",
       "  <tbody>\n",
       "    <tr>\n",
       "      <th>32</th>\n",
       "      <td>-115.39</td>\n",
       "      <td>32.76</td>\n",
       "      <td>16.0</td>\n",
       "      <td>1136.0</td>\n",
       "      <td>196.0</td>\n",
       "      <td>481.0</td>\n",
       "      <td>185.0</td>\n",
       "      <td>6.2558</td>\n",
       "      <td>146300.0</td>\n",
       "      <td>0.172535</td>\n",
       "    </tr>\n",
       "    <tr>\n",
       "      <th>69</th>\n",
       "      <td>-115.55</td>\n",
       "      <td>32.98</td>\n",
       "      <td>33.0</td>\n",
       "      <td>2266.0</td>\n",
       "      <td>365.0</td>\n",
       "      <td>952.0</td>\n",
       "      <td>360.0</td>\n",
       "      <td>5.4349</td>\n",
       "      <td>143000.0</td>\n",
       "      <td>0.161077</td>\n",
       "    </tr>\n",
       "    <tr>\n",
       "      <th>92</th>\n",
       "      <td>-115.57</td>\n",
       "      <td>32.78</td>\n",
       "      <td>20.0</td>\n",
       "      <td>1534.0</td>\n",
       "      <td>235.0</td>\n",
       "      <td>871.0</td>\n",
       "      <td>222.0</td>\n",
       "      <td>6.2715</td>\n",
       "      <td>97200.0</td>\n",
       "      <td>0.153194</td>\n",
       "    </tr>\n",
       "    <tr>\n",
       "      <th>98</th>\n",
       "      <td>-115.58</td>\n",
       "      <td>32.78</td>\n",
       "      <td>5.0</td>\n",
       "      <td>2494.0</td>\n",
       "      <td>414.0</td>\n",
       "      <td>1416.0</td>\n",
       "      <td>421.0</td>\n",
       "      <td>5.7843</td>\n",
       "      <td>110100.0</td>\n",
       "      <td>0.165998</td>\n",
       "    </tr>\n",
       "    <tr>\n",
       "      <th>100</th>\n",
       "      <td>-115.59</td>\n",
       "      <td>32.79</td>\n",
       "      <td>8.0</td>\n",
       "      <td>2183.0</td>\n",
       "      <td>307.0</td>\n",
       "      <td>1000.0</td>\n",
       "      <td>287.0</td>\n",
       "      <td>6.3814</td>\n",
       "      <td>159900.0</td>\n",
       "      <td>0.140632</td>\n",
       "    </tr>\n",
       "    <tr>\n",
       "      <th>...</th>\n",
       "      <td>...</td>\n",
       "      <td>...</td>\n",
       "      <td>...</td>\n",
       "      <td>...</td>\n",
       "      <td>...</td>\n",
       "      <td>...</td>\n",
       "      <td>...</td>\n",
       "      <td>...</td>\n",
       "      <td>...</td>\n",
       "      <td>...</td>\n",
       "    </tr>\n",
       "    <tr>\n",
       "      <th>16737</th>\n",
       "      <td>-122.89</td>\n",
       "      <td>38.38</td>\n",
       "      <td>16.0</td>\n",
       "      <td>2017.0</td>\n",
       "      <td>369.0</td>\n",
       "      <td>931.0</td>\n",
       "      <td>336.0</td>\n",
       "      <td>5.7664</td>\n",
       "      <td>267500.0</td>\n",
       "      <td>0.182945</td>\n",
       "    </tr>\n",
       "    <tr>\n",
       "      <th>16762</th>\n",
       "      <td>-122.94</td>\n",
       "      <td>38.57</td>\n",
       "      <td>33.0</td>\n",
       "      <td>1530.0</td>\n",
       "      <td>266.0</td>\n",
       "      <td>728.0</td>\n",
       "      <td>250.0</td>\n",
       "      <td>5.1005</td>\n",
       "      <td>266700.0</td>\n",
       "      <td>0.173856</td>\n",
       "    </tr>\n",
       "    <tr>\n",
       "      <th>16776</th>\n",
       "      <td>-123.00</td>\n",
       "      <td>38.33</td>\n",
       "      <td>8.0</td>\n",
       "      <td>3223.0</td>\n",
       "      <td>637.0</td>\n",
       "      <td>851.0</td>\n",
       "      <td>418.0</td>\n",
       "      <td>5.6445</td>\n",
       "      <td>364800.0</td>\n",
       "      <td>0.197642</td>\n",
       "    </tr>\n",
       "    <tr>\n",
       "      <th>16802</th>\n",
       "      <td>-123.17</td>\n",
       "      <td>39.18</td>\n",
       "      <td>14.0</td>\n",
       "      <td>2240.0</td>\n",
       "      <td>327.0</td>\n",
       "      <td>1030.0</td>\n",
       "      <td>308.0</td>\n",
       "      <td>5.9585</td>\n",
       "      <td>214900.0</td>\n",
       "      <td>0.145982</td>\n",
       "    </tr>\n",
       "    <tr>\n",
       "      <th>16899</th>\n",
       "      <td>-124.05</td>\n",
       "      <td>40.94</td>\n",
       "      <td>14.0</td>\n",
       "      <td>1452.0</td>\n",
       "      <td>217.0</td>\n",
       "      <td>516.0</td>\n",
       "      <td>181.0</td>\n",
       "      <td>5.0329</td>\n",
       "      <td>165600.0</td>\n",
       "      <td>0.149449</td>\n",
       "    </tr>\n",
       "  </tbody>\n",
       "</table>\n",
       "<p>3752 rows × 10 columns</p>\n",
       "</div>"
      ],
      "text/plain": [
       "       longitude  latitude  housing_median_age  total_rooms  total_bedrooms  \\\n",
       "32       -115.39     32.76                16.0       1136.0           196.0   \n",
       "69       -115.55     32.98                33.0       2266.0           365.0   \n",
       "92       -115.57     32.78                20.0       1534.0           235.0   \n",
       "98       -115.58     32.78                 5.0       2494.0           414.0   \n",
       "100      -115.59     32.79                 8.0       2183.0           307.0   \n",
       "...          ...       ...                 ...          ...             ...   \n",
       "16737    -122.89     38.38                16.0       2017.0           369.0   \n",
       "16762    -122.94     38.57                33.0       1530.0           266.0   \n",
       "16776    -123.00     38.33                 8.0       3223.0           637.0   \n",
       "16802    -123.17     39.18                14.0       2240.0           327.0   \n",
       "16899    -124.05     40.94                14.0       1452.0           217.0   \n",
       "\n",
       "       population  households  median_income  median_house_value  \\\n",
       "32          481.0       185.0         6.2558            146300.0   \n",
       "69          952.0       360.0         5.4349            143000.0   \n",
       "92          871.0       222.0         6.2715             97200.0   \n",
       "98         1416.0       421.0         5.7843            110100.0   \n",
       "100        1000.0       287.0         6.3814            159900.0   \n",
       "...           ...         ...            ...                 ...   \n",
       "16737       931.0       336.0         5.7664            267500.0   \n",
       "16762       728.0       250.0         5.1005            266700.0   \n",
       "16776       851.0       418.0         5.6445            364800.0   \n",
       "16802      1030.0       308.0         5.9585            214900.0   \n",
       "16899       516.0       181.0         5.0329            165600.0   \n",
       "\n",
       "       total_bedrooms_per_total_rooms  \n",
       "32                           0.172535  \n",
       "69                           0.161077  \n",
       "92                           0.153194  \n",
       "98                           0.165998  \n",
       "100                          0.140632  \n",
       "...                               ...  \n",
       "16737                        0.182945  \n",
       "16762                        0.173856  \n",
       "16776                        0.197642  \n",
       "16802                        0.145982  \n",
       "16899                        0.149449  \n",
       "\n",
       "[3752 rows x 10 columns]"
      ]
     },
     "execution_count": 46,
     "metadata": {},
     "output_type": "execute_result"
    }
   ],
   "source": [
    "Cal_house_ds.loc[Cal_house_ds['median_income']>5]"
   ]
  },
  {
   "cell_type": "code",
   "execution_count": 50,
   "metadata": {},
   "outputs": [
    {
     "data": {
      "text/html": [
       "<div>\n",
       "<style scoped>\n",
       "    .dataframe tbody tr th:only-of-type {\n",
       "        vertical-align: middle;\n",
       "    }\n",
       "\n",
       "    .dataframe tbody tr th {\n",
       "        vertical-align: top;\n",
       "    }\n",
       "\n",
       "    .dataframe thead th {\n",
       "        text-align: right;\n",
       "    }\n",
       "</style>\n",
       "<table border=\"1\" class=\"dataframe\">\n",
       "  <thead>\n",
       "    <tr style=\"text-align: right;\">\n",
       "      <th></th>\n",
       "      <th>longitude</th>\n",
       "      <th>latitude</th>\n",
       "      <th>housing_median_age</th>\n",
       "      <th>total_rooms</th>\n",
       "      <th>total_bedrooms</th>\n",
       "      <th>population</th>\n",
       "      <th>households</th>\n",
       "      <th>median_income</th>\n",
       "      <th>median_house_value</th>\n",
       "      <th>total_bedrooms_per_total_rooms</th>\n",
       "    </tr>\n",
       "  </thead>\n",
       "  <tbody>\n",
       "    <tr>\n",
       "      <th>133</th>\n",
       "      <td>-116.06</td>\n",
       "      <td>34.15</td>\n",
       "      <td>15.0</td>\n",
       "      <td>10377.0</td>\n",
       "      <td>2331.0</td>\n",
       "      <td>4507.0</td>\n",
       "      <td>1807.0</td>\n",
       "      <td>2.2466</td>\n",
       "      <td>66800.0</td>\n",
       "      <td>0.224631</td>\n",
       "    </tr>\n",
       "    <tr>\n",
       "      <th>191</th>\n",
       "      <td>-116.36</td>\n",
       "      <td>33.88</td>\n",
       "      <td>11.0</td>\n",
       "      <td>12557.0</td>\n",
       "      <td>3098.0</td>\n",
       "      <td>2453.0</td>\n",
       "      <td>1232.0</td>\n",
       "      <td>1.7844</td>\n",
       "      <td>78500.0</td>\n",
       "      <td>0.246715</td>\n",
       "    </tr>\n",
       "    <tr>\n",
       "      <th>198</th>\n",
       "      <td>-116.38</td>\n",
       "      <td>33.73</td>\n",
       "      <td>10.0</td>\n",
       "      <td>11836.0</td>\n",
       "      <td>2405.0</td>\n",
       "      <td>3811.0</td>\n",
       "      <td>1570.0</td>\n",
       "      <td>4.0079</td>\n",
       "      <td>134500.0</td>\n",
       "      <td>0.203194</td>\n",
       "    </tr>\n",
       "    <tr>\n",
       "      <th>201</th>\n",
       "      <td>-116.39</td>\n",
       "      <td>33.82</td>\n",
       "      <td>15.0</td>\n",
       "      <td>11115.0</td>\n",
       "      <td>2257.0</td>\n",
       "      <td>4122.0</td>\n",
       "      <td>1653.0</td>\n",
       "      <td>2.7219</td>\n",
       "      <td>74400.0</td>\n",
       "      <td>0.203059</td>\n",
       "    </tr>\n",
       "    <tr>\n",
       "      <th>229</th>\n",
       "      <td>-116.47</td>\n",
       "      <td>33.81</td>\n",
       "      <td>7.0</td>\n",
       "      <td>10105.0</td>\n",
       "      <td>2481.0</td>\n",
       "      <td>6274.0</td>\n",
       "      <td>2095.0</td>\n",
       "      <td>2.4497</td>\n",
       "      <td>90900.0</td>\n",
       "      <td>0.245522</td>\n",
       "    </tr>\n",
       "    <tr>\n",
       "      <th>...</th>\n",
       "      <td>...</td>\n",
       "      <td>...</td>\n",
       "      <td>...</td>\n",
       "      <td>...</td>\n",
       "      <td>...</td>\n",
       "      <td>...</td>\n",
       "      <td>...</td>\n",
       "      <td>...</td>\n",
       "      <td>...</td>\n",
       "      <td>...</td>\n",
       "    </tr>\n",
       "    <tr>\n",
       "      <th>12654</th>\n",
       "      <td>-121.75</td>\n",
       "      <td>38.67</td>\n",
       "      <td>9.0</td>\n",
       "      <td>12139.0</td>\n",
       "      <td>2640.0</td>\n",
       "      <td>6837.0</td>\n",
       "      <td>2358.0</td>\n",
       "      <td>3.1250</td>\n",
       "      <td>132500.0</td>\n",
       "      <td>0.217481</td>\n",
       "    </tr>\n",
       "    <tr>\n",
       "      <th>12772</th>\n",
       "      <td>-121.79</td>\n",
       "      <td>36.64</td>\n",
       "      <td>11.0</td>\n",
       "      <td>32627.0</td>\n",
       "      <td>6445.0</td>\n",
       "      <td>28566.0</td>\n",
       "      <td>6082.0</td>\n",
       "      <td>2.3087</td>\n",
       "      <td>118800.0</td>\n",
       "      <td>0.197536</td>\n",
       "    </tr>\n",
       "    <tr>\n",
       "      <th>13388</th>\n",
       "      <td>-121.94</td>\n",
       "      <td>38.27</td>\n",
       "      <td>35.0</td>\n",
       "      <td>10869.0</td>\n",
       "      <td>2226.0</td>\n",
       "      <td>9879.0</td>\n",
       "      <td>2152.0</td>\n",
       "      <td>2.5681</td>\n",
       "      <td>81300.0</td>\n",
       "      <td>0.204803</td>\n",
       "    </tr>\n",
       "    <tr>\n",
       "      <th>13707</th>\n",
       "      <td>-122.00</td>\n",
       "      <td>38.25</td>\n",
       "      <td>7.0</td>\n",
       "      <td>11768.0</td>\n",
       "      <td>1893.0</td>\n",
       "      <td>6657.0</td>\n",
       "      <td>1874.0</td>\n",
       "      <td>4.9222</td>\n",
       "      <td>142900.0</td>\n",
       "      <td>0.160860</td>\n",
       "    </tr>\n",
       "    <tr>\n",
       "      <th>15436</th>\n",
       "      <td>-122.31</td>\n",
       "      <td>40.55</td>\n",
       "      <td>11.0</td>\n",
       "      <td>13714.0</td>\n",
       "      <td>2302.0</td>\n",
       "      <td>6511.0</td>\n",
       "      <td>2267.0</td>\n",
       "      <td>3.5522</td>\n",
       "      <td>100100.0</td>\n",
       "      <td>0.167858</td>\n",
       "    </tr>\n",
       "  </tbody>\n",
       "</table>\n",
       "<p>67 rows × 10 columns</p>\n",
       "</div>"
      ],
      "text/plain": [
       "       longitude  latitude  housing_median_age  total_rooms  total_bedrooms  \\\n",
       "133      -116.06     34.15                15.0      10377.0          2331.0   \n",
       "191      -116.36     33.88                11.0      12557.0          3098.0   \n",
       "198      -116.38     33.73                10.0      11836.0          2405.0   \n",
       "201      -116.39     33.82                15.0      11115.0          2257.0   \n",
       "229      -116.47     33.81                 7.0      10105.0          2481.0   \n",
       "...          ...       ...                 ...          ...             ...   \n",
       "12654    -121.75     38.67                 9.0      12139.0          2640.0   \n",
       "12772    -121.79     36.64                11.0      32627.0          6445.0   \n",
       "13388    -121.94     38.27                35.0      10869.0          2226.0   \n",
       "13707    -122.00     38.25                 7.0      11768.0          1893.0   \n",
       "15436    -122.31     40.55                11.0      13714.0          2302.0   \n",
       "\n",
       "       population  households  median_income  median_house_value  \\\n",
       "133        4507.0      1807.0         2.2466             66800.0   \n",
       "191        2453.0      1232.0         1.7844             78500.0   \n",
       "198        3811.0      1570.0         4.0079            134500.0   \n",
       "201        4122.0      1653.0         2.7219             74400.0   \n",
       "229        6274.0      2095.0         2.4497             90900.0   \n",
       "...           ...         ...            ...                 ...   \n",
       "12654      6837.0      2358.0         3.1250            132500.0   \n",
       "12772     28566.0      6082.0         2.3087            118800.0   \n",
       "13388      9879.0      2152.0         2.5681             81300.0   \n",
       "13707      6657.0      1874.0         4.9222            142900.0   \n",
       "15436      6511.0      2267.0         3.5522            100100.0   \n",
       "\n",
       "       total_bedrooms_per_total_rooms  \n",
       "133                          0.224631  \n",
       "191                          0.246715  \n",
       "198                          0.203194  \n",
       "201                          0.203059  \n",
       "229                          0.245522  \n",
       "...                               ...  \n",
       "12654                        0.217481  \n",
       "12772                        0.197536  \n",
       "13388                        0.204803  \n",
       "13707                        0.160860  \n",
       "15436                        0.167858  \n",
       "\n",
       "[67 rows x 10 columns]"
      ]
     },
     "execution_count": 50,
     "metadata": {},
     "output_type": "execute_result"
    }
   ],
   "source": [
    "Cal_house_ds_subset = Cal_house_ds.loc[(Cal_house_ds['total_rooms']>10000) & (Cal_house_ds['median_house_value']<150000)]\n",
    "Cal_house_ds_subset"
   ]
  },
  {
   "cell_type": "markdown",
   "metadata": {},
   "source": [
    "#### Export Modified Data"
   ]
  },
  {
   "cell_type": "code",
   "execution_count": 53,
   "metadata": {},
   "outputs": [],
   "source": [
    "Cal_house_ds.to_csv('D:/Repositories/assignment_stackomatic/california_housing_train_updated.csv',index=False)"
   ]
  },
  {
   "cell_type": "markdown",
   "metadata": {},
   "source": [
    "---"
   ]
  },
  {
   "cell_type": "markdown",
   "metadata": {},
   "source": [
    "### Part 2: Numerical Analysis with NumPy (30 Points)"
   ]
  },
  {
   "cell_type": "markdown",
   "metadata": {},
   "source": [
    "#### Array creation and indexing "
   ]
  },
  {
   "cell_type": "code",
   "execution_count": 75,
   "metadata": {},
   "outputs": [
    {
     "name": "stdout",
     "output_type": "stream",
     "text": [
      "[ 1  2  3  4  5  6  7  8  9 10 11 12 13 14 15 16 17 18 19 20]\n"
     ]
    }
   ],
   "source": [
    "import numpy as np\n",
    "int_arr = np.arange(1,21)\n",
    "print(int_arr)"
   ]
  },
  {
   "cell_type": "code",
   "execution_count": 76,
   "metadata": {},
   "outputs": [
    {
     "name": "stdout",
     "output_type": "stream",
     "text": [
      "[ 2  4  6  8 10 12 14 16 18 20]\n"
     ]
    }
   ],
   "source": [
    "print(int_arr[1::2])"
   ]
  },
  {
   "cell_type": "code",
   "execution_count": null,
   "metadata": {},
   "outputs": [
    {
     "name": "stdout",
     "output_type": "stream",
     "text": [
      "[[17 84 80 34]\n",
      " [50 61 16 75]\n",
      " [96 59 12 74]\n",
      " [67 78 26 49]\n",
      " [69 40 97 44]]\n"
     ]
    }
   ],
   "source": [
    "rand_2D_array = np.random.randint(10,100,(5,4))\n",
    "print(rand_2D_array)\n"
   ]
  },
  {
   "cell_type": "code",
   "execution_count": 85,
   "metadata": {},
   "outputs": [
    {
     "name": "stdout",
     "output_type": "stream",
     "text": [
      "[[17 84]\n",
      " [50 61]\n",
      " [96 59]]\n"
     ]
    }
   ],
   "source": [
    "print(rand_2D_array[0:3,0:2])\n"
   ]
  },
  {
   "cell_type": "markdown",
   "metadata": {},
   "source": [
    "#### Array Manipulation"
   ]
  },
  {
   "cell_type": "code",
   "execution_count": 87,
   "metadata": {},
   "outputs": [
    {
     "name": "stdout",
     "output_type": "stream",
     "text": [
      "[[ 1  2  3  4  5]\n",
      " [ 6  7  8  9 10]\n",
      " [11 12 13 14 15]\n",
      " [16 17 18 19 20]]\n"
     ]
    }
   ],
   "source": [
    "int_arr = int_arr.reshape((4,5))\n",
    "print(int_arr)"
   ]
  },
  {
   "cell_type": "code",
   "execution_count": null,
   "metadata": {},
   "outputs": [
    {
     "name": "stdout",
     "output_type": "stream",
     "text": [
      "[17 84 80 34 50 61 16 75 96 59 12 74 67 78 26 49 69 40 97 44]\n"
     ]
    }
   ],
   "source": [
    "rand_2D_array = rand_2D_array.flatten()\n",
    "print(rand_2D_array)"
   ]
  },
  {
   "cell_type": "code",
   "execution_count": 97,
   "metadata": {},
   "outputs": [
    {
     "data": {
      "text/plain": [
       "array([[ 137,  194,  126,  162],\n",
       "       [ 332,  484,  336,  442],\n",
       "       [ 527,  774,  546,  722],\n",
       "       [ 722, 1064,  756, 1002]])"
      ]
     },
     "execution_count": 97,
     "metadata": {},
     "output_type": "execute_result"
    }
   ],
   "source": [
    "rand_2D_array_for_matrix_mul = np.random.randint(1,20,(5,4))\n",
    "np.matmul(int_arr,rand_2D_array_for_matrix_mul)"
   ]
  },
  {
   "cell_type": "markdown",
   "metadata": {},
   "source": [
    "#### Boolean and Fancy Indexing"
   ]
  },
  {
   "cell_type": "code",
   "execution_count": 99,
   "metadata": {},
   "outputs": [
    {
     "name": "stdout",
     "output_type": "stream",
     "text": [
      "[39 67 71 62 59 85 90 50 98 54 29 93  6 26 37 25 76 22 27 59  0 26 32 31\n",
      "  5 90  8 39 15 21 83 95 68 69 76 96 86 16 44 84 35 67 29 98 90 49 57 82\n",
      " 14 27]\n"
     ]
    }
   ],
   "source": [
    "ran_int_50 = np.random.randint(0,100,50)\n",
    "print(ran_int_50)"
   ]
  },
  {
   "cell_type": "code",
   "execution_count": null,
   "metadata": {},
   "outputs": [
    {
     "name": "stdout",
     "output_type": "stream",
     "text": [
      "[67 71 62 59 85 90 98 54 93 76 59 90 83 95 68 69 76 96 86 84 67 98 90 57\n",
      " 82]\n"
     ]
    }
   ],
   "source": [
    "print(ran_int_50[ran_int_50>50]) "
   ]
  },
  {
   "cell_type": "code",
   "execution_count": null,
   "metadata": {},
   "outputs": [
    {
     "name": "stdout",
     "output_type": "stream",
     "text": [
      "[39 50 76]\n"
     ]
    }
   ],
   "source": [
    "print(ran_int_50[[0,7,34]]) # fancy indexing"
   ]
  },
  {
   "cell_type": "markdown",
   "metadata": {},
   "source": [
    "#### Statistical Operations"
   ]
  },
  {
   "cell_type": "code",
   "execution_count": 108,
   "metadata": {},
   "outputs": [
    {
     "name": "stdout",
     "output_type": "stream",
     "text": [
      "ARRAY : \n",
      "[[ 1  2  3  4  5]\n",
      " [ 6  7  8  9 10]\n",
      " [11 12 13 14 15]\n",
      " [16 17 18 19 20]]\n",
      "MEAN along each column: \n",
      "[ 8.5  9.5 10.5 11.5 12.5]\n",
      "MAX along each column: \n",
      "[16 17 18 19 20]\n",
      "SUM along each column: \n",
      "[34 38 42 46 50]\n"
     ]
    }
   ],
   "source": [
    "print(\"ARRAY : \")\n",
    "print(int_arr)\n",
    "print(\"MEAN along each column: \")\n",
    "print(int_arr.mean(axis=0))\n",
    "print(\"MAX along each column: \")\n",
    "print(int_arr.max(axis=0))\n",
    "print(\"SUM along each column: \")\n",
    "print(int_arr.sum(axis=0))"
   ]
  },
  {
   "cell_type": "code",
   "execution_count": 115,
   "metadata": {},
   "outputs": [
    {
     "name": "stdout",
     "output_type": "stream",
     "text": [
      "[11 12 13 14 15 16 17 18 19 20]\n"
     ]
    }
   ],
   "source": [
    "\n",
    "mask = int_arr>int_arr.mean(axis=0)\n",
    "print(int_arr[mask])"
   ]
  },
  {
   "cell_type": "markdown",
   "metadata": {},
   "source": [
    "---"
   ]
  },
  {
   "cell_type": "markdown",
   "metadata": {},
   "source": [
    "### Part 3: Problem Solving with Python Basics (20 Points)"
   ]
  },
  {
   "cell_type": "markdown",
   "metadata": {},
   "source": [
    "#### Loops and Conditional Statements"
   ]
  },
  {
   "cell_type": "code",
   "execution_count": 116,
   "metadata": {},
   "outputs": [
    {
     "name": "stdout",
     "output_type": "stream",
     "text": [
      "[0, 1, 1, 2, 3, 5, 8, 13, 21, 34, 55, 89]\n"
     ]
    }
   ],
   "source": [
    "fibonacci = [0,1]\n",
    "next_value = fibonacci[-1]+fibonacci[-2]\n",
    "while next_value<100:\n",
    "    fibonacci.append(next_value)\n",
    "    next_value = fibonacci[-1]+fibonacci[-2]\n",
    "print(fibonacci)"
   ]
  },
  {
   "cell_type": "code",
   "execution_count": 119,
   "metadata": {},
   "outputs": [
    {
     "name": "stdout",
     "output_type": "stream",
     "text": [
      "3 : Fizz\n",
      "5 : Buzz\n",
      "6 : Fizz\n",
      "9 : Fizz\n",
      "10 : Buzz\n",
      "12 : Fizz\n",
      "15 : FrizBuzz\n",
      "15 : Buzz\n",
      "18 : Fizz\n",
      "20 : Buzz\n",
      "21 : Fizz\n",
      "24 : Fizz\n",
      "25 : Buzz\n",
      "27 : Fizz\n",
      "30 : FrizBuzz\n",
      "30 : Buzz\n",
      "33 : Fizz\n",
      "35 : Buzz\n",
      "36 : Fizz\n",
      "39 : Fizz\n",
      "40 : Buzz\n",
      "42 : Fizz\n",
      "45 : FrizBuzz\n",
      "45 : Buzz\n",
      "48 : Fizz\n",
      "50 : Buzz\n"
     ]
    }
   ],
   "source": [
    "i =1\n",
    "while i in range(1,51):\n",
    "    if(i%3==0):\n",
    "        if(i%5==0):\n",
    "            print(str(i) + \" : FrizBuzz\")\n",
    "        else:\n",
    "            print(str(i) + \" : Fizz\")\n",
    "    if(i%5==0):\n",
    "        print(str(i) + \" : Buzz\")\n",
    "    i+=1"
   ]
  },
  {
   "cell_type": "markdown",
   "metadata": {},
   "source": [
    "#### Variable Length Arguments"
   ]
  },
  {
   "cell_type": "code",
   "execution_count": 123,
   "metadata": {},
   "outputs": [
    {
     "name": "stdout",
     "output_type": "stream",
     "text": [
      "Median is 3\n"
     ]
    }
   ],
   "source": [
    "def find_median(numbers):\n",
    "    sorted_numbers = sorted(numbers)\n",
    "    n = len(sorted_numbers)\n",
    "    if n%2!=0:\n",
    "        median = sorted_numbers[n//2]\n",
    "    else:\n",
    "        median = (sorted_numbers[n//2 - 1]+ sorted_numbers[n//2])/2\n",
    "    return median\n",
    "\n",
    "numbers = [1,5,2,9,3]\n",
    "print(\"Median is \" + str(find_median(numbers)))\n",
    "\n",
    "    "
   ]
  },
  {
   "cell_type": "code",
   "execution_count": 125,
   "metadata": {},
   "outputs": [
    {
     "name": "stdout",
     "output_type": "stream",
     "text": [
      "Average is 4.0\n"
     ]
    }
   ],
   "source": [
    "def find_average(numbers):\n",
    "    n = len(numbers)\n",
    "    i = 0\n",
    "    sum = 0\n",
    "    while i in range(n):\n",
    "        sum+=numbers[i]\n",
    "        i+=1\n",
    "    average = sum/n\n",
    "    return average\n",
    "\n",
    "numbers = [1,5,2,9,3]\n",
    "print(\"Average is \" + str(find_average(numbers)))"
   ]
  },
  {
   "cell_type": "markdown",
   "metadata": {},
   "source": [
    "#### Error Handling"
   ]
  },
  {
   "cell_type": "code",
   "execution_count": 127,
   "metadata": {},
   "outputs": [
    {
     "name": "stdout",
     "output_type": "stream",
     "text": [
      "Division by zero is not possible\n"
     ]
    }
   ],
   "source": [
    "try:\n",
    "    b = 0\n",
    "    a = 4/b\n",
    "except ZeroDivisionError:\n",
    "    print(\"Division by zero is not possible\")\n",
    "\n"
   ]
  },
  {
   "cell_type": "markdown",
   "metadata": {},
   "source": [
    "---"
   ]
  },
  {
   "cell_type": "markdown",
   "metadata": {},
   "source": [
    "### Part 4: Bonus Challenge (Optional) (20 Points)"
   ]
  },
  {
   "cell_type": "markdown",
   "metadata": {},
   "source": [
    "#### Advanced NumPy Manipulation"
   ]
  },
  {
   "cell_type": "code",
   "execution_count": 128,
   "metadata": {},
   "outputs": [],
   "source": [
    "import numpy as np"
   ]
  },
  {
   "cell_type": "code",
   "execution_count": 135,
   "metadata": {},
   "outputs": [
    {
     "name": "stdout",
     "output_type": "stream",
     "text": [
      "[[[0.95816593 0.54887378 0.55567938]\n",
      "  [0.98035787 0.88841302 0.27196193]\n",
      "  [0.84109119 0.35403661 0.92320843]]\n",
      "\n",
      " [[0.82399289 0.60585604 0.55563275]\n",
      "  [0.43549819 0.66409171 0.33761501]\n",
      "  [0.41664408 0.10770016 0.71148646]]\n",
      "\n",
      " [[0.90099382 0.41375275 0.2834946 ]\n",
      "  [0.12958515 0.55197112 0.5159872 ]\n",
      "  [0.97540734 0.16309052 0.17057683]]]\n"
     ]
    }
   ],
   "source": [
    "array_3d = np.random.rand(3,3,3)\n",
    "print(array_3d)"
   ]
  },
  {
   "cell_type": "code",
   "execution_count": 136,
   "metadata": {},
   "outputs": [
    {
     "data": {
      "text/plain": [
       "array([[[0.95816593, 0.54887378, 0.55567938],\n",
       "        [0.82399289, 0.60585604, 0.55563275],\n",
       "        [0.90099382, 0.41375275, 0.2834946 ]],\n",
       "\n",
       "       [[0.98035787, 0.88841302, 0.27196193],\n",
       "        [0.43549819, 0.66409171, 0.33761501],\n",
       "        [0.12958515, 0.55197112, 0.5159872 ]],\n",
       "\n",
       "       [[0.84109119, 0.35403661, 0.92320843],\n",
       "        [0.41664408, 0.10770016, 0.71148646],\n",
       "        [0.97540734, 0.16309052, 0.17057683]]])"
      ]
     },
     "execution_count": 136,
     "metadata": {},
     "output_type": "execute_result"
    }
   ],
   "source": [
    "np.swapaxes(array_3d,0,1)"
   ]
  },
  {
   "cell_type": "code",
   "execution_count": 137,
   "metadata": {},
   "outputs": [
    {
     "name": "stdout",
     "output_type": "stream",
     "text": [
      "sums along a particular axis : [[2.68315264 1.56848256 1.39480674]\n",
      " [1.54544122 2.10447585 1.12556414]\n",
      " [2.23314261 0.62482729 1.80527172]]\n"
     ]
    }
   ],
   "source": [
    "print(\"sums along a particular axis : \" + str(array_3d.sum(axis=0)))"
   ]
  },
  {
   "cell_type": "code",
   "execution_count": 141,
   "metadata": {},
   "outputs": [
    {
     "name": "stdout",
     "output_type": "stream",
     "text": [
      "Original :\n",
      "[[7 1 1]\n",
      " [6 0 2]\n",
      " [6 2 9]]\n",
      "vector added random array : \n",
      "[[ 8  4  7]\n",
      " [ 7  3  8]\n",
      " [ 7  5 15]]\n"
     ]
    }
   ],
   "source": [
    "rand_arr = np.random.randint(0,10,(3,3))\n",
    "print(\"Original :\")\n",
    "print(rand_arr)\n",
    "vector = np.array([1,3,6])\n",
    "print(\"vector added random array : \")\n",
    "print(rand_arr + vector)"
   ]
  },
  {
   "cell_type": "markdown",
   "metadata": {},
   "source": [
    "---"
   ]
  },
  {
   "cell_type": "markdown",
   "metadata": {},
   "source": [
    "# Assignment - 1 endedd"
   ]
  }
 ],
 "metadata": {
  "kernelspec": {
   "display_name": "Python 3",
   "language": "python",
   "name": "python3"
  },
  "language_info": {
   "codemirror_mode": {
    "name": "ipython",
    "version": 3
   },
   "file_extension": ".py",
   "mimetype": "text/x-python",
   "name": "python",
   "nbconvert_exporter": "python",
   "pygments_lexer": "ipython3",
   "version": "3.12.5"
  }
 },
 "nbformat": 4,
 "nbformat_minor": 2
}
